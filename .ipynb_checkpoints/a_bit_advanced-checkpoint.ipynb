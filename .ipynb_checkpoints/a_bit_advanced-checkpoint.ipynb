{
 "cells": [
  {
   "cell_type": "markdown",
   "id": "4a2f1ada",
   "metadata": {},
   "source": [
    "# Timing code snippets"
   ]
  },
  {
   "cell_type": "markdown",
   "id": "3e02af55",
   "metadata": {},
   "source": [
    "%timeit line magic and %%timeit cell magic in the introduction to magic\n",
    "functions in \"IPython Magic Commands\""
   ]
  },
  {
   "cell_type": "code",
   "execution_count": 1,
   "id": "02da71f0",
   "metadata": {},
   "outputs": [
    {
     "name": "stdout",
     "output_type": "stream",
     "text": [
      "2.19 µs ± 86.9 ns per loop (mean ± std. dev. of 7 runs, 100000 loops each)\n"
     ]
    }
   ],
   "source": [
    "%timeit sum(range(100))"
   ]
  },
  {
   "cell_type": "code",
   "execution_count": 2,
   "id": "dfb494b1",
   "metadata": {},
   "outputs": [
    {
     "name": "stdout",
     "output_type": "stream",
     "text": [
      "689 ms ± 10.8 ms per loop (mean ± std. dev. of 7 runs, 1 loop each)\n"
     ]
    }
   ],
   "source": [
    "%%timeit\n",
    " total = 0\n",
    " for i in range(1000):\n",
    "  for j in range(1000):\n",
    "   total += i * (-1) ** j\n"
   ]
  },
  {
   "cell_type": "code",
   "execution_count": 3,
   "id": "66e87bd3",
   "metadata": {},
   "outputs": [
    {
     "name": "stdout",
     "output_type": "stream",
     "text": [
      "1.09 ms ± 30.9 µs per loop (mean ± std. dev. of 7 runs, 1000 loops each)\n"
     ]
    }
   ],
   "source": [
    " import random\n",
    " L = [random.random() for i in range(100000)]\n",
    " %timeit L.sort()\n"
   ]
  },
  {
   "cell_type": "code",
   "execution_count": 5,
   "id": "69973538",
   "metadata": {},
   "outputs": [
    {
     "name": "stdout",
     "output_type": "stream",
     "text": [
      "sorting an unsorted list:\n",
      "Wall time: 33.3 ms\n"
     ]
    }
   ],
   "source": [
    "import random\n",
    "L = [random.random() for i in range(100000)]\n",
    "print(\"sorting an unsorted list:\")\n",
    "%time L.sort()\n"
   ]
  },
  {
   "cell_type": "code",
   "execution_count": 9,
   "id": "8e98c3d8",
   "metadata": {},
   "outputs": [
    {
     "name": "stdout",
     "output_type": "stream",
     "text": [
      "sorting an already sorted list:\n",
      "Wall time: 4.78 ms\n"
     ]
    }
   ],
   "source": [
    " print(\"sorting an already sorted list:\")\n",
    " %time L.sort()\n"
   ]
  },
  {
   "cell_type": "code",
   "execution_count": 15,
   "id": "b5a3ea26",
   "metadata": {},
   "outputs": [],
   "source": [
    "def sum_of_lists(N):\n",
    "    total = 0\n",
    "    for i in range(5):\n",
    "     L = [j ^ (j >> i) for j in range(N)]\n",
    "     total += sum(L)\n",
    "    return total"
   ]
  },
  {
   "cell_type": "code",
   "execution_count": 16,
   "id": "cd812327",
   "metadata": {},
   "outputs": [
    {
     "name": "stdout",
     "output_type": "stream",
     "text": [
      " "
     ]
    }
   ],
   "source": [
    "%prun sum_of_lists(1000000)\n"
   ]
  }
 ],
 "metadata": {
  "kernelspec": {
   "display_name": "Python 3",
   "language": "python",
   "name": "python3"
  },
  "language_info": {
   "codemirror_mode": {
    "name": "ipython",
    "version": 3
   },
   "file_extension": ".py",
   "mimetype": "text/x-python",
   "name": "python",
   "nbconvert_exporter": "python",
   "pygments_lexer": "ipython3",
   "version": "3.8.8"
  }
 },
 "nbformat": 4,
 "nbformat_minor": 5
}
