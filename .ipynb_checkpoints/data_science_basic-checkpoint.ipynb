{
 "cells": [
  {
   "cell_type": "markdown",
   "id": "456734d7",
   "metadata": {},
   "source": [
    "# PYTHON FOR DATA SCIENCE"
   ]
  },
  {
   "cell_type": "markdown",
   "id": "d4edc2b5",
   "metadata": {},
   "source": [
    "# Python's data science libraries include numpy, pandas, IPython, matplotlib,scikit-learn, and other related tools.\n",
    "\n",
    "\n",
    "\n",
    "1.numpy= this library provides ndarray object for efficient storage and manipulation of dense data arrays in python"
   ]
  },
  {
   "cell_type": "markdown",
   "id": "aac49b1a",
   "metadata": {},
   "source": [
    "2.pandas = this library provides the dataframe object for efficient storage and manipulation of labeled/ columnar data.\n"
   ]
  },
  {
   "cell_type": "markdown",
   "id": "77cbc38d",
   "metadata": {},
   "source": [
    "3.ipython and jupyter = this creates computational environment in which many python using data scientist works.\n",
    "ipython refers interactive python\n",
    "\n"
   ]
  },
  {
   "cell_type": "markdown",
   "id": "adfd7849",
   "metadata": {},
   "source": [
    "4.matplotlib = capable of flexible range of data visualizations in python.\n"
   ]
  },
  {
   "cell_type": "markdown",
   "id": "7978f448",
   "metadata": {},
   "source": [
    "\n",
    "5.scikit learn = provides efficient and clean python implementation of the most important and established machine learning algorithms."
   ]
  },
  {
   "cell_type": "code",
   "execution_count": 1,
   "id": "00b860ac",
   "metadata": {},
   "outputs": [],
   "source": [
    " def donothing(x):\n",
    "    return x"
   ]
  },
  {
   "cell_type": "code",
   "execution_count": 2,
   "id": "b01a6248",
   "metadata": {},
   "outputs": [
    {
     "data": {
      "text/plain": [
       "10"
      ]
     },
     "execution_count": 2,
     "metadata": {},
     "output_type": "execute_result"
    }
   ],
   "source": [
    "donothing(10)"
   ]
  },
  {
   "cell_type": "code",
   "execution_count": 3,
   "id": "47119a11",
   "metadata": {},
   "outputs": [],
   "source": [
    "## so this is one of the basic thing we can code using python language in jupyter notebook."
   ]
  },
  {
   "cell_type": "markdown",
   "id": "8c8aac0e",
   "metadata": {},
   "source": [
    " we can use % paste and % cpaste as well above def function."
   ]
  },
  {
   "cell_type": "code",
   "execution_count": 4,
   "id": "0e2374d6",
   "metadata": {},
   "outputs": [
    {
     "name": "stdout",
     "output_type": "stream",
     "text": [
      "1 squared is 1\n",
      "2 squared is 4\n",
      "3 squared is 9\n",
      "4 squared is 16\n",
      "5 squared is 25\n",
      "6 squared is 36\n"
     ]
    }
   ],
   "source": [
    "def square(x):\n",
    "    return x ** 2\n",
    "for N in range(1,7):\n",
    "    print(N, \"squared is\",square(N))"
   ]
  },
  {
   "cell_type": "code",
   "execution_count": 5,
   "id": "ae72912c",
   "metadata": {},
   "outputs": [
    {
     "data": {
      "text/plain": [
       "49"
      ]
     },
     "execution_count": 5,
     "metadata": {},
     "output_type": "execute_result"
    }
   ],
   "source": [
    "square(7)"
   ]
  },
  {
   "cell_type": "code",
   "execution_count": 6,
   "id": "9b105ddb",
   "metadata": {},
   "outputs": [],
   "source": [
    "import math"
   ]
  },
  {
   "cell_type": "code",
   "execution_count": 7,
   "id": "544a31de",
   "metadata": {},
   "outputs": [
    {
     "data": {
      "text/plain": [
       "0.9092974268256817"
      ]
     },
     "execution_count": 7,
     "metadata": {},
     "output_type": "execute_result"
    }
   ],
   "source": [
    "math.sin(2)"
   ]
  },
  {
   "cell_type": "code",
   "execution_count": 8,
   "id": "67be9186",
   "metadata": {},
   "outputs": [
    {
     "data": {
      "text/plain": [
       "0.8714479827243188"
      ]
     },
     "execution_count": 8,
     "metadata": {},
     "output_type": "execute_result"
    }
   ],
   "source": [
    "math.tan(7)"
   ]
  },
  {
   "cell_type": "code",
   "execution_count": 9,
   "id": "091ee5de",
   "metadata": {},
   "outputs": [
    {
     "name": "stdout",
     "output_type": "stream",
     "text": [
      "['', 'def donothing(x):\\n   return x', 'donothing(10)', '## so this is one of the basic thing we can code using python language in jupyter notebook.', 'def square(x):\\n    return x ** 2\\nfor N in range(1,7):\\n    print(N, \"squared is\",square(N))', 'square(7)', 'import math', 'math.sin(2)', 'math.tan(7)', 'print(In)']\n"
     ]
    }
   ],
   "source": [
    "print(In)"
   ]
  },
  {
   "cell_type": "code",
   "execution_count": 10,
   "id": "7738c627",
   "metadata": {},
   "outputs": [
    {
     "name": "stdout",
     "output_type": "stream",
     "text": [
      "def donothing(x):\n",
      "   return x\n"
     ]
    }
   ],
   "source": [
    "print(In[1])"
   ]
  },
  {
   "cell_type": "code",
   "execution_count": 12,
   "id": "b7f7a06f",
   "metadata": {},
   "outputs": [
    {
     "name": "stdout",
     "output_type": "stream",
     "text": [
      "0.8714479827243188\n"
     ]
    },
    {
     "data": {
      "text/plain": [
       "0.7594215865942846"
      ]
     },
     "execution_count": 12,
     "metadata": {},
     "output_type": "execute_result"
    }
   ],
   "source": [
    "print(Out[8])\n",
    "#it will display the result of output from number 7    we can directly multiply and work with the outputs form different shell\n",
    "Out[8]**2"
   ]
  },
  {
   "cell_type": "markdown",
   "id": "13d141ac",
   "metadata": {},
   "source": [
    "# learning about underscore shortcuts and previous outputs"
   ]
  },
  {
   "cell_type": "code",
   "execution_count": 13,
   "id": "57c45a99",
   "metadata": {},
   "outputs": [
    {
     "name": "stdout",
     "output_type": "stream",
     "text": [
      "0.7594215865942846\n"
     ]
    }
   ],
   "source": [
    "print(_)"
   ]
  },
  {
   "cell_type": "code",
   "execution_count": 14,
   "id": "022ece14",
   "metadata": {},
   "outputs": [],
   "source": [
    "# this will display the last output we worked on."
   ]
  },
  {
   "cell_type": "code",
   "execution_count": 15,
   "id": "36f97778",
   "metadata": {},
   "outputs": [
    {
     "name": "stdout",
     "output_type": "stream",
     "text": [
      "0.8714479827243188\n"
     ]
    }
   ],
   "source": [
    "print(__)\n",
    "# this will get us to the second last output"
   ]
  },
  {
   "cell_type": "code",
   "execution_count": 16,
   "id": "e9cba72b",
   "metadata": {},
   "outputs": [
    {
     "name": "stdout",
     "output_type": "stream",
     "text": [
      "punam\n"
     ]
    }
   ],
   "source": [
    "print(\"punam\")"
   ]
  },
  {
   "cell_type": "code",
   "execution_count": 17,
   "id": "d97e157f",
   "metadata": {},
   "outputs": [
    {
     "name": "stdout",
     "output_type": "stream",
     "text": [
      "0.7594215865942846\n"
     ]
    }
   ],
   "source": [
    "print(_)\n",
    "# so we can clearly see that print(_) will only work for numerical output."
   ]
  },
  {
   "cell_type": "code",
   "execution_count": 18,
   "id": "6a3dcb05",
   "metadata": {},
   "outputs": [
    {
     "ename": "KeyError",
     "evalue": "17",
     "output_type": "error",
     "traceback": [
      "\u001b[1;31m---------------------------------------------------------------------------\u001b[0m",
      "\u001b[1;31mKeyError\u001b[0m                                  Traceback (most recent call last)",
      "\u001b[1;32m<ipython-input-18-8ec2baa3c570>\u001b[0m in \u001b[0;36m<module>\u001b[1;34m\u001b[0m\n\u001b[1;32m----> 1\u001b[1;33m \u001b[0mOut\u001b[0m\u001b[1;33m[\u001b[0m\u001b[1;36m17\u001b[0m\u001b[1;33m]\u001b[0m\u001b[1;33m\u001b[0m\u001b[1;33m\u001b[0m\u001b[0m\n\u001b[0m\u001b[0;32m      2\u001b[0m \u001b[0m_17\u001b[0m\u001b[1;33m\u001b[0m\u001b[1;33m\u001b[0m\u001b[0m\n",
      "\u001b[1;31mKeyError\u001b[0m: 17"
     ]
    }
   ],
   "source": [
    "Out[17]\n",
    "_17"
   ]
  },
  {
   "cell_type": "code",
   "execution_count": 23,
   "id": "ca06107e",
   "metadata": {},
   "outputs": [
    {
     "data": {
      "text/plain": [
       "0.8714479827243188"
      ]
     },
     "execution_count": 23,
     "metadata": {},
     "output_type": "execute_result"
    }
   ],
   "source": [
    "_8"
   ]
  },
  {
   "cell_type": "code",
   "execution_count": 24,
   "id": "a860bdfd",
   "metadata": {},
   "outputs": [],
   "source": [
    "## so from the above two shells we can see we can directly acess to the output from the seventh shell."
   ]
  },
  {
   "cell_type": "markdown",
   "id": "d6130402",
   "metadata": {},
   "source": [
    "SOMETIMES WE JUST WANT TO SUPRESS THE OUTPUT OF THE STATEMENT"
   ]
  },
  {
   "cell_type": "code",
   "execution_count": 25,
   "id": "ff5ad162",
   "metadata": {},
   "outputs": [
    {
     "data": {
      "text/plain": [
       "1.6631996811689862"
      ]
     },
     "execution_count": 25,
     "metadata": {},
     "output_type": "execute_result"
    }
   ],
   "source": [
    "math.sin(2) + math.cos(7)"
   ]
  },
  {
   "cell_type": "code",
   "execution_count": 26,
   "id": "cf198ea8",
   "metadata": {},
   "outputs": [
    {
     "data": {
      "text/plain": [
       "False"
      ]
     },
     "execution_count": 26,
     "metadata": {},
     "output_type": "execute_result"
    }
   ],
   "source": [
    "40 in Out\n",
    "## this says either the output from the fourth shell is displayed on the screen or not"
   ]
  },
  {
   "cell_type": "code",
   "execution_count": 27,
   "id": "ddc7b833",
   "metadata": {},
   "outputs": [
    {
     "data": {
      "text/plain": [
       "0.7539022543433046"
      ]
     },
     "execution_count": 27,
     "metadata": {},
     "output_type": "execute_result"
    }
   ],
   "source": [
    "## related magic commands\n",
    "import math\n",
    "math.sin(7)\n",
    "math.cos(7)\n"
   ]
  },
  {
   "cell_type": "code",
   "execution_count": 28,
   "id": "fab25439",
   "metadata": {},
   "outputs": [
    {
     "data": {
      "text/plain": [
       "0.7539022543433046"
      ]
     },
     "execution_count": 28,
     "metadata": {},
     "output_type": "execute_result"
    }
   ],
   "source": [
    "math.cos(7)"
   ]
  },
  {
   "cell_type": "code",
   "execution_count": 29,
   "id": "66038c23",
   "metadata": {},
   "outputs": [
    {
     "data": {
      "text/plain": [
       "0.6569865987187891"
      ]
     },
     "execution_count": 29,
     "metadata": {},
     "output_type": "execute_result"
    }
   ],
   "source": [
    "math.sin(7)"
   ]
  },
  {
   "cell_type": "code",
   "execution_count": 30,
   "id": "79f72139",
   "metadata": {},
   "outputs": [],
   "source": [
    "# we can clearly observe the above 3 kernels"
   ]
  },
  {
   "cell_type": "markdown",
   "id": "c4fb9c71",
   "metadata": {},
   "source": [
    "lets, have a quick introduction to shell also known as command line/ terminal  which is a way to interact textually with your computer"
   ]
  },
  {
   "cell_type": "markdown",
   "id": "9b3796ed",
   "metadata": {},
   "source": [
    "# echo is like Python's print function\n",
    "osx:~ $ echo \"hello world\"\n",
    "hello world\n",
    "osx:~ $ pwd # pwd = print working directory\n",
    "/home/jake # this is the \"path\" that we're in\n",
    "osx:~ $ ls # ls = list working directory contents\n",
    "notebooks projects\n",
    "osx:~ $ cd projects/ # cd = change directory"
   ]
  },
  {
   "cell_type": "code",
   "execution_count": 31,
   "id": "59c436d3",
   "metadata": {},
   "outputs": [
    {
     "name": "stderr",
     "output_type": "stream",
     "text": [
      "'ls' is not recognized as an internal or external command,\n",
      "operable program or batch file.\n"
     ]
    }
   ],
   "source": [
    "!ls"
   ]
  },
  {
   "cell_type": "code",
   "execution_count": 32,
   "id": "77b4b47f",
   "metadata": {},
   "outputs": [
    {
     "name": "stderr",
     "output_type": "stream",
     "text": [
      "'pwd' is not recognized as an internal or external command,\n",
      "operable program or batch file.\n"
     ]
    }
   ],
   "source": [
    "!pwd"
   ]
  },
  {
   "cell_type": "code",
   "execution_count": 33,
   "id": "a0b937ec",
   "metadata": {},
   "outputs": [
    {
     "name": "stdout",
     "output_type": "stream",
     "text": [
      "\"punam is very good girl.\"\n"
     ]
    }
   ],
   "source": [
    "!echo \"punam is very good girl.\""
   ]
  },
  {
   "cell_type": "code",
   "execution_count": 34,
   "id": "fdc44565",
   "metadata": {},
   "outputs": [
    {
     "name": "stdout",
     "output_type": "stream",
     "text": [
      "punam is very good ??.\n"
     ]
    }
   ],
   "source": [
    "!echo punam is very good 😘."
   ]
  },
  {
   "cell_type": "code",
   "execution_count": 35,
   "id": "e91b0048",
   "metadata": {},
   "outputs": [],
   "source": [
    "contents =!ls"
   ]
  },
  {
   "cell_type": "code",
   "execution_count": 36,
   "id": "a3f36312",
   "metadata": {},
   "outputs": [
    {
     "name": "stdout",
     "output_type": "stream",
     "text": [
      "[\"'ls' is not recognized as an internal or external command,\", 'operable program or batch file.']\n"
     ]
    }
   ],
   "source": [
    "print(contents)"
   ]
  },
  {
   "cell_type": "code",
   "execution_count": 37,
   "id": "f06633e7",
   "metadata": {},
   "outputs": [],
   "source": [
    "# i don't know why ls in not recognized here basically but what we need to know is that it will copy all the values from ls to the contents"
   ]
  },
  {
   "cell_type": "code",
   "execution_count": 38,
   "id": "9b634104",
   "metadata": {},
   "outputs": [],
   "source": [
    "directory =!pwd"
   ]
  },
  {
   "cell_type": "code",
   "execution_count": 39,
   "id": "08c9c921",
   "metadata": {},
   "outputs": [
    {
     "name": "stdout",
     "output_type": "stream",
     "text": [
      "[\"'pwd' is not recognized as an internal or external command,\", 'operable program or batch file.']\n"
     ]
    }
   ],
   "source": [
    "print( directory )\n",
    "# ok same goes for here"
   ]
  },
  {
   "cell_type": "code",
   "execution_count": 40,
   "id": "41a5dd33",
   "metadata": {},
   "outputs": [],
   "source": [
    "message = \" hellow, from punam.\""
   ]
  },
  {
   "cell_type": "code",
   "execution_count": 41,
   "id": "eeb31039",
   "metadata": {},
   "outputs": [
    {
     "name": "stdout",
     "output_type": "stream",
     "text": [
      "hellow, from punam.\n"
     ]
    }
   ],
   "source": [
    "!echo{message}\n",
    "## this is also the new method to print the message"
   ]
  },
  {
   "cell_type": "code",
   "execution_count": 42,
   "id": "e4c52a64",
   "metadata": {},
   "outputs": [
    {
     "name": "stdout",
     "output_type": "stream",
     "text": [
      " Volume in drive C has no label.\n",
      " Volume Serial Number is 7A2B-F648\n",
      "\n",
      " Directory of C:\\Users\\admin\\Desktop\\learning data science\\tmp\n",
      "\n",
      "11/20/2022  01:06 PM    <DIR>          .\n",
      "11/20/2022  01:06 PM    <DIR>          ..\n",
      "               0 File(s)              0 bytes\n",
      "               2 Dir(s)  24,989,265,920 bytes free\n"
     ]
    }
   ],
   "source": [
    "ls tmp"
   ]
  },
  {
   "cell_type": "code",
   "execution_count": 43,
   "id": "a9c7c6a9",
   "metadata": {},
   "outputs": [
    {
     "name": "stderr",
     "output_type": "stream",
     "text": [
      "A subdirectory or file tmp already exists.\n"
     ]
    }
   ],
   "source": [
    "mkdir tmp"
   ]
  },
  {
   "cell_type": "code",
   "execution_count": 44,
   "id": "16155975",
   "metadata": {},
   "outputs": [
    {
     "name": "stdout",
     "output_type": "stream",
     "text": [
      " Volume in drive C has no label.\n",
      " Volume Serial Number is 7A2B-F648\n",
      "\n",
      " Directory of C:\\Users\\admin\\Desktop\\learning data science\n",
      "\n",
      "11/20/2022  01:14 PM    <DIR>          .\n",
      "11/20/2022  01:14 PM    <DIR>          ..\n",
      "11/19/2022  06:14 PM    <DIR>          .ipynb_checkpoints\n",
      "11/19/2022  06:14 PM                23 .jovianrc\n",
      "11/20/2022  01:14 PM            18,888 data_science.ipynb\n",
      "11/20/2022  01:06 PM    <DIR>          tmp\n",
      "               2 File(s)         18,911 bytes\n",
      "               4 Dir(s)  24,989,188,096 bytes free\n"
     ]
    }
   ],
   "source": [
    "ls"
   ]
  },
  {
   "cell_type": "code",
   "execution_count": 45,
   "id": "58924cd7",
   "metadata": {},
   "outputs": [],
   "source": [
    "def function(a,b):\n",
    "    return a/b\n",
    "def functiion2(x):\n",
    "    a=x\n",
    "    b=x-1\n",
    "    return function(a,b)"
   ]
  },
  {
   "cell_type": "code",
   "execution_count": 46,
   "id": "ac03b80c",
   "metadata": {},
   "outputs": [
    {
     "ename": "ZeroDivisionError",
     "evalue": "division by zero",
     "output_type": "error",
     "traceback": [
      "\u001b[1;31m---------------------------------------------------------------------------\u001b[0m",
      "\u001b[1;31mZeroDivisionError\u001b[0m                         Traceback (most recent call last)",
      "\u001b[1;32m<ipython-input-46-042423f6f5c9>\u001b[0m in \u001b[0;36m<module>\u001b[1;34m\u001b[0m\n\u001b[1;32m----> 1\u001b[1;33m \u001b[0mfunctiion2\u001b[0m\u001b[1;33m(\u001b[0m\u001b[1;36m1\u001b[0m\u001b[1;33m)\u001b[0m\u001b[1;33m\u001b[0m\u001b[1;33m\u001b[0m\u001b[0m\n\u001b[0m\u001b[0;32m      2\u001b[0m \u001b[1;31m#here it comes error\u001b[0m\u001b[1;33m\u001b[0m\u001b[1;33m\u001b[0m\u001b[1;33m\u001b[0m\u001b[0m\n",
      "\u001b[1;32m<ipython-input-45-f47ad21ed61a>\u001b[0m in \u001b[0;36mfunctiion2\u001b[1;34m(x)\u001b[0m\n\u001b[0;32m      4\u001b[0m     \u001b[0ma\u001b[0m\u001b[1;33m=\u001b[0m\u001b[0mx\u001b[0m\u001b[1;33m\u001b[0m\u001b[1;33m\u001b[0m\u001b[0m\n\u001b[0;32m      5\u001b[0m     \u001b[0mb\u001b[0m\u001b[1;33m=\u001b[0m\u001b[0mx\u001b[0m\u001b[1;33m-\u001b[0m\u001b[1;36m1\u001b[0m\u001b[1;33m\u001b[0m\u001b[1;33m\u001b[0m\u001b[0m\n\u001b[1;32m----> 6\u001b[1;33m     \u001b[1;32mreturn\u001b[0m \u001b[0mfunction\u001b[0m\u001b[1;33m(\u001b[0m\u001b[0ma\u001b[0m\u001b[1;33m,\u001b[0m\u001b[0mb\u001b[0m\u001b[1;33m)\u001b[0m\u001b[1;33m\u001b[0m\u001b[1;33m\u001b[0m\u001b[0m\n\u001b[0m",
      "\u001b[1;32m<ipython-input-45-f47ad21ed61a>\u001b[0m in \u001b[0;36mfunction\u001b[1;34m(a, b)\u001b[0m\n\u001b[0;32m      1\u001b[0m \u001b[1;32mdef\u001b[0m \u001b[0mfunction\u001b[0m\u001b[1;33m(\u001b[0m\u001b[0ma\u001b[0m\u001b[1;33m,\u001b[0m\u001b[0mb\u001b[0m\u001b[1;33m)\u001b[0m\u001b[1;33m:\u001b[0m\u001b[1;33m\u001b[0m\u001b[1;33m\u001b[0m\u001b[0m\n\u001b[1;32m----> 2\u001b[1;33m     \u001b[1;32mreturn\u001b[0m \u001b[0ma\u001b[0m\u001b[1;33m/\u001b[0m\u001b[0mb\u001b[0m\u001b[1;33m\u001b[0m\u001b[1;33m\u001b[0m\u001b[0m\n\u001b[0m\u001b[0;32m      3\u001b[0m \u001b[1;32mdef\u001b[0m \u001b[0mfunctiion2\u001b[0m\u001b[1;33m(\u001b[0m\u001b[0mx\u001b[0m\u001b[1;33m)\u001b[0m\u001b[1;33m:\u001b[0m\u001b[1;33m\u001b[0m\u001b[1;33m\u001b[0m\u001b[0m\n\u001b[0;32m      4\u001b[0m     \u001b[0ma\u001b[0m\u001b[1;33m=\u001b[0m\u001b[0mx\u001b[0m\u001b[1;33m\u001b[0m\u001b[1;33m\u001b[0m\u001b[0m\n\u001b[0;32m      5\u001b[0m     \u001b[0mb\u001b[0m\u001b[1;33m=\u001b[0m\u001b[0mx\u001b[0m\u001b[1;33m-\u001b[0m\u001b[1;36m1\u001b[0m\u001b[1;33m\u001b[0m\u001b[1;33m\u001b[0m\u001b[0m\n",
      "\u001b[1;31mZeroDivisionError\u001b[0m: division by zero"
     ]
    }
   ],
   "source": [
    "functiion2(1)\n",
    "#here it comes error"
   ]
  },
  {
   "cell_type": "code",
   "execution_count": 47,
   "id": "6b663353",
   "metadata": {},
   "outputs": [
    {
     "name": "stdout",
     "output_type": "stream",
     "text": [
      "Exception reporting mode: Plain\n"
     ]
    }
   ],
   "source": [
    "%xmode plain"
   ]
  },
  {
   "cell_type": "code",
   "execution_count": 48,
   "id": "d1fa2a52",
   "metadata": {},
   "outputs": [
    {
     "ename": "ZeroDivisionError",
     "evalue": "division by zero",
     "output_type": "error",
     "traceback": [
      "Traceback \u001b[1;36m(most recent call last)\u001b[0m:\n",
      "  File \u001b[0;32m\"<ipython-input-48-b8102ae95ade>\"\u001b[0m, line \u001b[0;32m1\u001b[0m, in \u001b[0;35m<module>\u001b[0m\n    functiion2(1)\n",
      "  File \u001b[0;32m\"<ipython-input-45-f47ad21ed61a>\"\u001b[0m, line \u001b[0;32m6\u001b[0m, in \u001b[0;35mfunctiion2\u001b[0m\n    return function(a,b)\n",
      "\u001b[1;36m  File \u001b[1;32m\"<ipython-input-45-f47ad21ed61a>\"\u001b[1;36m, line \u001b[1;32m2\u001b[1;36m, in \u001b[1;35mfunction\u001b[1;36m\u001b[0m\n\u001b[1;33m    return a/b\u001b[0m\n",
      "\u001b[1;31mZeroDivisionError\u001b[0m\u001b[1;31m:\u001b[0m division by zero\n"
     ]
    }
   ],
   "source": [
    "functiion2(1)\n",
    "# so a lot of errors are occuring"
   ]
  },
  {
   "cell_type": "code",
   "execution_count": 49,
   "id": "77e7f2bc",
   "metadata": {},
   "outputs": [
    {
     "data": {
      "text/plain": [
       "list"
      ]
     },
     "execution_count": 49,
     "metadata": {},
     "output_type": "execute_result"
    }
   ],
   "source": [
    "list"
   ]
  },
  {
   "cell_type": "code",
   "execution_count": 52,
   "id": "5e5ebc1c",
   "metadata": {},
   "outputs": [
    {
     "name": "stdout",
     "output_type": "stream",
     "text": [
      "Wall time: 0 ns\n"
     ]
    }
   ],
   "source": [
    "%time"
   ]
  },
  {
   "cell_type": "code",
   "execution_count": 53,
   "id": "74948c85",
   "metadata": {},
   "outputs": [],
   "source": [
    "%timeit"
   ]
  },
  {
   "cell_type": "code",
   "execution_count": 55,
   "id": "d64db5fe",
   "metadata": {},
   "outputs": [
    {
     "name": "stdout",
     "output_type": "stream",
     "text": [
      " "
     ]
    }
   ],
   "source": [
    "%prun\n",
    "# it runs code with profiler and opens the jupyter pager to show the other data"
   ]
  },
  {
   "cell_type": "code",
   "execution_count": 59,
   "id": "ad00ad74",
   "metadata": {},
   "outputs": [
    {
     "name": "stdout",
     "output_type": "stream",
     "text": [
      "2.21 µs ± 62.9 ns per loop (mean ± std. dev. of 7 runs, 100000 loops each)\n"
     ]
    }
   ],
   "source": [
    "%timeit sum(range(100))"
   ]
  },
  {
   "cell_type": "code",
   "execution_count": 60,
   "id": "3a94b358",
   "metadata": {},
   "outputs": [],
   "source": [
    "## here % timeit does immediately large number of repition."
   ]
  },
  {
   "cell_type": "code",
   "execution_count": 62,
   "id": "8199735b",
   "metadata": {},
   "outputs": [
    {
     "name": "stdout",
     "output_type": "stream",
     "text": [
      "655 ms ± 7.02 ms per loop (mean ± std. dev. of 7 runs, 1 loop each)\n"
     ]
    }
   ],
   "source": [
    "%%timeit\n",
    " total = 0\n",
    " for i in range(1000):\n",
    "  for j in range(1000):\n",
    "    total += i * (-1) ** j"
   ]
  },
  {
   "cell_type": "code",
   "execution_count": null,
   "id": "cb00641d",
   "metadata": {},
   "outputs": [],
   "source": [
    "## now we will go towards learning some vast level for learning data science using python."
   ]
  },
  {
   "cell_type": "code",
   "execution_count": null,
   "id": "c39fde46",
   "metadata": {},
   "outputs": [],
   "source": []
  }
 ],
 "metadata": {
  "kernelspec": {
   "display_name": "Python 3",
   "language": "python",
   "name": "python3"
  },
  "language_info": {
   "codemirror_mode": {
    "name": "ipython",
    "version": 3
   },
   "file_extension": ".py",
   "mimetype": "text/x-python",
   "name": "python",
   "nbconvert_exporter": "python",
   "pygments_lexer": "ipython3",
   "version": "3.8.8"
  }
 },
 "nbformat": 4,
 "nbformat_minor": 5
}
